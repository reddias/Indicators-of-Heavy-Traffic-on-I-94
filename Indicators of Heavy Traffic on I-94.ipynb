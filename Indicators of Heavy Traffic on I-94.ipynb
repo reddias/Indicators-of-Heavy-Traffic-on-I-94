{
 "cells": [
  {
   "cell_type": "markdown",
   "id": "86e6b21f",
   "metadata": {},
   "source": [
    "# Indicators of Heavy Traffic on I-94"
   ]
  },
  {
   "cell_type": "markdown",
   "id": "5c7bc839",
   "metadata": {},
   "source": [
    "In this project, we are going to analyze a [dataset](https://archive.ics.uci.edu/ml/datasets/Metro+Interstate+Traffic+Volume#) about the westbound traffic on the [I-94 Interstate highway](https://en.wikipedia.org/wiki/Interstate_94)."
   ]
  },
  {
   "cell_type": "markdown",
   "id": "84032be8",
   "metadata": {},
   "source": [
    "Determining some indicators of heavy traffic on I-94 is the goal of our analysis. These indicators can be the type of weather, the time of day, the time of the week, etc."
   ]
  },
  {
   "cell_type": "markdown",
   "id": "97eed1e1",
   "metadata": {},
   "source": [
    "## The I-94 Traffic Dataset"
   ]
  },
  {
   "cell_type": "code",
   "execution_count": 2,
   "id": "4e747ff8",
   "metadata": {},
   "outputs": [],
   "source": [
    "import pandas as pd\n",
    "\n",
    "i_94 = pd.read_csv(r'D:\\Metro_Interstate_Traffic_Volume.csv')"
   ]
  },
  {
   "cell_type": "markdown",
   "id": "e1039c44",
   "metadata": {},
   "source": [
    "Let's investigate our dataset using `DataFrame.info()`"
   ]
  },
  {
   "cell_type": "code",
   "execution_count": 3,
   "id": "5594cd20",
   "metadata": {},
   "outputs": [
    {
     "name": "stdout",
     "output_type": "stream",
     "text": [
      "<class 'pandas.core.frame.DataFrame'>\n",
      "RangeIndex: 48204 entries, 0 to 48203\n",
      "Data columns (total 9 columns):\n",
      " #   Column               Non-Null Count  Dtype  \n",
      "---  ------               --------------  -----  \n",
      " 0   holiday              48204 non-null  object \n",
      " 1   temp                 48204 non-null  float64\n",
      " 2   rain_1h              48204 non-null  float64\n",
      " 3   snow_1h              48204 non-null  float64\n",
      " 4   clouds_all           48204 non-null  int64  \n",
      " 5   weather_main         48204 non-null  object \n",
      " 6   weather_description  48204 non-null  object \n",
      " 7   date_time            48204 non-null  object \n",
      " 8   traffic_volume       48204 non-null  int64  \n",
      "dtypes: float64(3), int64(2), object(4)\n",
      "memory usage: 3.3+ MB\n"
     ]
    }
   ],
   "source": [
    "i_94.info()"
   ]
  },
  {
   "cell_type": "code",
   "execution_count": 4,
   "id": "c7993aae",
   "metadata": {},
   "outputs": [
    {
     "data": {
      "text/html": [
       "<div>\n",
       "<style scoped>\n",
       "    .dataframe tbody tr th:only-of-type {\n",
       "        vertical-align: middle;\n",
       "    }\n",
       "\n",
       "    .dataframe tbody tr th {\n",
       "        vertical-align: top;\n",
       "    }\n",
       "\n",
       "    .dataframe thead th {\n",
       "        text-align: right;\n",
       "    }\n",
       "</style>\n",
       "<table border=\"1\" class=\"dataframe\">\n",
       "  <thead>\n",
       "    <tr style=\"text-align: right;\">\n",
       "      <th></th>\n",
       "      <th>holiday</th>\n",
       "      <th>temp</th>\n",
       "      <th>rain_1h</th>\n",
       "      <th>snow_1h</th>\n",
       "      <th>clouds_all</th>\n",
       "      <th>weather_main</th>\n",
       "      <th>weather_description</th>\n",
       "      <th>date_time</th>\n",
       "      <th>traffic_volume</th>\n",
       "    </tr>\n",
       "  </thead>\n",
       "  <tbody>\n",
       "    <tr>\n",
       "      <th>0</th>\n",
       "      <td>None</td>\n",
       "      <td>288.28</td>\n",
       "      <td>0.0</td>\n",
       "      <td>0.0</td>\n",
       "      <td>40</td>\n",
       "      <td>Clouds</td>\n",
       "      <td>scattered clouds</td>\n",
       "      <td>2012-10-02 09:00:00</td>\n",
       "      <td>5545</td>\n",
       "    </tr>\n",
       "    <tr>\n",
       "      <th>1</th>\n",
       "      <td>None</td>\n",
       "      <td>289.36</td>\n",
       "      <td>0.0</td>\n",
       "      <td>0.0</td>\n",
       "      <td>75</td>\n",
       "      <td>Clouds</td>\n",
       "      <td>broken clouds</td>\n",
       "      <td>2012-10-02 10:00:00</td>\n",
       "      <td>4516</td>\n",
       "    </tr>\n",
       "    <tr>\n",
       "      <th>2</th>\n",
       "      <td>None</td>\n",
       "      <td>289.58</td>\n",
       "      <td>0.0</td>\n",
       "      <td>0.0</td>\n",
       "      <td>90</td>\n",
       "      <td>Clouds</td>\n",
       "      <td>overcast clouds</td>\n",
       "      <td>2012-10-02 11:00:00</td>\n",
       "      <td>4767</td>\n",
       "    </tr>\n",
       "    <tr>\n",
       "      <th>3</th>\n",
       "      <td>None</td>\n",
       "      <td>290.13</td>\n",
       "      <td>0.0</td>\n",
       "      <td>0.0</td>\n",
       "      <td>90</td>\n",
       "      <td>Clouds</td>\n",
       "      <td>overcast clouds</td>\n",
       "      <td>2012-10-02 12:00:00</td>\n",
       "      <td>5026</td>\n",
       "    </tr>\n",
       "    <tr>\n",
       "      <th>4</th>\n",
       "      <td>None</td>\n",
       "      <td>291.14</td>\n",
       "      <td>0.0</td>\n",
       "      <td>0.0</td>\n",
       "      <td>75</td>\n",
       "      <td>Clouds</td>\n",
       "      <td>broken clouds</td>\n",
       "      <td>2012-10-02 13:00:00</td>\n",
       "      <td>4918</td>\n",
       "    </tr>\n",
       "  </tbody>\n",
       "</table>\n",
       "</div>"
      ],
      "text/plain": [
       "  holiday    temp  rain_1h  snow_1h  clouds_all weather_main  \\\n",
       "0    None  288.28      0.0      0.0          40       Clouds   \n",
       "1    None  289.36      0.0      0.0          75       Clouds   \n",
       "2    None  289.58      0.0      0.0          90       Clouds   \n",
       "3    None  290.13      0.0      0.0          90       Clouds   \n",
       "4    None  291.14      0.0      0.0          75       Clouds   \n",
       "\n",
       "  weather_description            date_time  traffic_volume  \n",
       "0    scattered clouds  2012-10-02 09:00:00            5545  \n",
       "1       broken clouds  2012-10-02 10:00:00            4516  \n",
       "2     overcast clouds  2012-10-02 11:00:00            4767  \n",
       "3     overcast clouds  2012-10-02 12:00:00            5026  \n",
       "4       broken clouds  2012-10-02 13:00:00            4918  "
      ]
     },
     "execution_count": 4,
     "metadata": {},
     "output_type": "execute_result"
    }
   ],
   "source": [
    "i_94.head()"
   ]
  },
  {
   "cell_type": "code",
   "execution_count": 5,
   "id": "3df345f8",
   "metadata": {},
   "outputs": [
    {
     "data": {
      "text/html": [
       "<div>\n",
       "<style scoped>\n",
       "    .dataframe tbody tr th:only-of-type {\n",
       "        vertical-align: middle;\n",
       "    }\n",
       "\n",
       "    .dataframe tbody tr th {\n",
       "        vertical-align: top;\n",
       "    }\n",
       "\n",
       "    .dataframe thead th {\n",
       "        text-align: right;\n",
       "    }\n",
       "</style>\n",
       "<table border=\"1\" class=\"dataframe\">\n",
       "  <thead>\n",
       "    <tr style=\"text-align: right;\">\n",
       "      <th></th>\n",
       "      <th>holiday</th>\n",
       "      <th>temp</th>\n",
       "      <th>rain_1h</th>\n",
       "      <th>snow_1h</th>\n",
       "      <th>clouds_all</th>\n",
       "      <th>weather_main</th>\n",
       "      <th>weather_description</th>\n",
       "      <th>date_time</th>\n",
       "      <th>traffic_volume</th>\n",
       "    </tr>\n",
       "  </thead>\n",
       "  <tbody>\n",
       "    <tr>\n",
       "      <th>48199</th>\n",
       "      <td>None</td>\n",
       "      <td>283.45</td>\n",
       "      <td>0.0</td>\n",
       "      <td>0.0</td>\n",
       "      <td>75</td>\n",
       "      <td>Clouds</td>\n",
       "      <td>broken clouds</td>\n",
       "      <td>2018-09-30 19:00:00</td>\n",
       "      <td>3543</td>\n",
       "    </tr>\n",
       "    <tr>\n",
       "      <th>48200</th>\n",
       "      <td>None</td>\n",
       "      <td>282.76</td>\n",
       "      <td>0.0</td>\n",
       "      <td>0.0</td>\n",
       "      <td>90</td>\n",
       "      <td>Clouds</td>\n",
       "      <td>overcast clouds</td>\n",
       "      <td>2018-09-30 20:00:00</td>\n",
       "      <td>2781</td>\n",
       "    </tr>\n",
       "    <tr>\n",
       "      <th>48201</th>\n",
       "      <td>None</td>\n",
       "      <td>282.73</td>\n",
       "      <td>0.0</td>\n",
       "      <td>0.0</td>\n",
       "      <td>90</td>\n",
       "      <td>Thunderstorm</td>\n",
       "      <td>proximity thunderstorm</td>\n",
       "      <td>2018-09-30 21:00:00</td>\n",
       "      <td>2159</td>\n",
       "    </tr>\n",
       "    <tr>\n",
       "      <th>48202</th>\n",
       "      <td>None</td>\n",
       "      <td>282.09</td>\n",
       "      <td>0.0</td>\n",
       "      <td>0.0</td>\n",
       "      <td>90</td>\n",
       "      <td>Clouds</td>\n",
       "      <td>overcast clouds</td>\n",
       "      <td>2018-09-30 22:00:00</td>\n",
       "      <td>1450</td>\n",
       "    </tr>\n",
       "    <tr>\n",
       "      <th>48203</th>\n",
       "      <td>None</td>\n",
       "      <td>282.12</td>\n",
       "      <td>0.0</td>\n",
       "      <td>0.0</td>\n",
       "      <td>90</td>\n",
       "      <td>Clouds</td>\n",
       "      <td>overcast clouds</td>\n",
       "      <td>2018-09-30 23:00:00</td>\n",
       "      <td>954</td>\n",
       "    </tr>\n",
       "  </tbody>\n",
       "</table>\n",
       "</div>"
      ],
      "text/plain": [
       "      holiday    temp  rain_1h  snow_1h  clouds_all  weather_main  \\\n",
       "48199    None  283.45      0.0      0.0          75        Clouds   \n",
       "48200    None  282.76      0.0      0.0          90        Clouds   \n",
       "48201    None  282.73      0.0      0.0          90  Thunderstorm   \n",
       "48202    None  282.09      0.0      0.0          90        Clouds   \n",
       "48203    None  282.12      0.0      0.0          90        Clouds   \n",
       "\n",
       "          weather_description            date_time  traffic_volume  \n",
       "48199           broken clouds  2018-09-30 19:00:00            3543  \n",
       "48200         overcast clouds  2018-09-30 20:00:00            2781  \n",
       "48201  proximity thunderstorm  2018-09-30 21:00:00            2159  \n",
       "48202         overcast clouds  2018-09-30 22:00:00            1450  \n",
       "48203         overcast clouds  2018-09-30 23:00:00             954  "
      ]
     },
     "execution_count": 5,
     "metadata": {},
     "output_type": "execute_result"
    }
   ],
   "source": [
    "i_94.tail()"
   ]
  },
  {
   "cell_type": "markdown",
   "id": "687974c7",
   "metadata": {},
   "source": [
    "The dataset contains 48,203 rows and 9 columns, and fortunatelly there is no null values. Each row describes the traffic and weather data for a particular hour, we have data from 02.10.2012 9:00am to 30.09.2018 11:00pm.\n",
    "\n",
    "A station located approximately midway between Minneapolis and Saint Paul records the traffic data (see the [dataset documentation](https://archive.ics.uci.edu/ml/datasets/Metro+Interstate+Traffic+Volume)). For this station, the direction of the route is westbound (i.e., cars moving from east to west). This means that the results of our analysis will be about the westbound traffic in the proximity of the station. In other words, we should avoid generalizing our results for the entire I-94 highway."
   ]
  },
  {
   "cell_type": "markdown",
   "id": "8344732e",
   "metadata": {},
   "source": [
    "## Analyzing Traffic Volume"
   ]
  },
  {
   "cell_type": "markdown",
   "id": "dde569ea",
   "metadata": {},
   "source": [
    "At the beginning of our analysis, we will have a look at the distribution of the `traffic_volume` column."
   ]
  },
  {
   "cell_type": "code",
   "execution_count": 10,
   "id": "a41d7792",
   "metadata": {},
   "outputs": [
    {
     "data": {
      "image/png": "[encoded data removed]",
      "text/plain": [
       "<Figure size 432x288 with 1 Axes>"
      ]
     },
     "metadata": {
      "needs_background": "light"
     },
     "output_type": "display_data"
    }
   ],
   "source": [
    "import matplotlib.pyplot as plt\n",
    "%matplotlib inline \n",
    "\n",
    "i_94['traffic_volume'].plot.hist()\n",
    "plt.show()"
   ]
  },
  {
   "cell_type": "code",
   "execution_count": 11,
   "id": "987166c9",
   "metadata": {},
   "outputs": [
    {
     "data": {
      "text/plain": [
       "count    48204.000000\n",
       "mean      3259.818355\n",
       "std       1986.860670\n",
       "min          0.000000\n",
       "25%       1193.000000\n",
       "50%       3380.000000\n",
       "75%       4933.000000\n",
       "max       7280.000000\n",
       "Name: traffic_volume, dtype: float64"
      ]
     },
     "execution_count": 11,
     "metadata": {},
     "output_type": "execute_result"
    }
   ],
   "source": [
    "i_94['traffic_volume'].describe()"
   ]
  },
  {
   "cell_type": "markdown",
   "id": "32d74eee",
   "metadata": {},
   "source": [
    "Between 2012-10-02 09:00:00 and 2018-09-30 23:00:00, the hourly traffic volume varied from 0 to 7,280 cars, with an average of 3,260 cars.\n",
    "\n",
    "About 25% of the time, there were only 1,193 cars or fewer passing the station each hour — this probably occurs during the night, or when a road is under construction. However, about 25% of the time, the traffic volume was four times as much (4,933 cars or more).\n",
    "\n",
    "This observation gives our analysis an interesting direction: comparing daytime data with nighttime data."
   ]
  },
  {
   "cell_type": "markdown",
   "id": "8d9def04",
   "metadata": {},
   "source": [
    "## Traffic Volume: Day vs. Night"
   ]
  },
  {
   "cell_type": "markdown",
   "id": "8e53608f",
   "metadata": {},
   "source": [
    "We're going to start by dividing the data set into two parts:\n",
    "\n",
    "* Daytime data: hours from 7 a.m. to 7 p.m. (12 hours)\n",
    "* Nighttime data: hours from 7 p.m. to 7 a.m. (12 hours)\n",
    "\n",
    "This is a good starting point, although it is not a perfect criterion for distinguishing daytime from nighttime."
   ]
  },
  {
   "cell_type": "code",
   "execution_count": 24,
   "id": "602d5c00",
   "metadata": {},
   "outputs": [
    {
     "name": "stdout",
     "output_type": "stream",
     "text": [
      "(23877, 9)\n",
      "(24327, 9)\n"
     ]
    }
   ],
   "source": [
    "i_94['date_time'] = pd.to_datetime(i_94['date_time'])\n",
    "\n",
    "day = i_94.copy()[(i_94['date_time'].dt.hour >= 7) & (i_94['date_time'].dt.hour < 19)]\n",
    "print(day.shape)\n",
    "\n",
    "night = i_94.copy()[(i_94['date_time'].dt.hour < 7) | (i_94['date_time'].dt.hour >= 19)]\n",
    "print(night.shape)"
   ]
  },
  {
   "cell_type": "markdown",
   "id": "8ec909da",
   "metadata": {},
   "source": [
    "There may be some missing data in the dataset that explains the difference in the number of rows. Nevertheless, it will not affect our analysis."
   ]
  },
  {
   "cell_type": "markdown",
   "id": "2ee11284",
   "metadata": {},
   "source": [
    "## Traffic Volume: Day vs. Night (II)"
   ]
  },
  {
   "cell_type": "markdown",
   "id": "479fa3cf",
   "metadata": {},
   "source": [
    "Now we have a comparison of the traffic volume during the day and at night."
   ]
  },
  {
   "cell_type": "code",
   "execution_count": 41,
   "id": "be995df4",
   "metadata": {},
   "outputs": [
    {
     "data": {
      "image/png": "[encoded data removed]",
      "text/plain": [
       "<Figure size 792x288 with 2 Axes>"
      ]
     },
     "metadata": {
      "needs_background": "light"
     },
     "output_type": "display_data"
    }
   ],
   "source": [
    "plt.figure(figsize =(11, 4))\n",
    "\n",
    "plt.subplot(1,2,1)\n",
    "plt.hist(day['traffic_volume'])\n",
    "plt.xlim(0, 7500)\n",
    "plt.ylim(0, 8000)\n",
    "plt.title('Traffic Volume: Day')\n",
    "plt.ylabel('Frequency')\n",
    "plt.xlabel('Traffic Volume')\n",
    "\n",
    "\n",
    "plt.subplot(1,2,2)\n",
    "plt.hist(night['traffic_volume'])\n",
    "plt.xlim(0, 7500)\n",
    "plt.ylim(0, 8000)\n",
    "plt.title('Traffic Volume: Night')\n",
    "plt.ylabel('Frequency')\n",
    "plt.xlabel('Traffic Volume')\n",
    "\n",
    "plt.show()"
   ]
  },
  {
   "cell_type": "code",
   "execution_count": 42,
   "id": "e47e063d",
   "metadata": {},
   "outputs": [
    {
     "data": {
      "text/plain": [
       "count    23877.000000\n",
       "mean      4762.047452\n",
       "std       1174.546482\n",
       "min          0.000000\n",
       "25%       4252.000000\n",
       "50%       4820.000000\n",
       "75%       5559.000000\n",
       "max       7280.000000\n",
       "Name: traffic_volume, dtype: float64"
      ]
     },
     "execution_count": 42,
     "metadata": {},
     "output_type": "execute_result"
    }
   ],
   "source": [
    "day['traffic_volume'].describe()"
   ]
  },
  {
   "cell_type": "code",
   "execution_count": 43,
   "id": "7febaa2e",
   "metadata": {},
   "outputs": [
    {
     "data": {
      "text/plain": [
       "count    24327.000000\n",
       "mean      1785.377441\n",
       "std       1441.951197\n",
       "min          0.000000\n",
       "25%        530.000000\n",
       "50%       1287.000000\n",
       "75%       2819.000000\n",
       "max       6386.000000\n",
       "Name: traffic_volume, dtype: float64"
      ]
     },
     "execution_count": 43,
     "metadata": {},
     "output_type": "execute_result"
    }
   ],
   "source": [
    "night['traffic_volume'].describe()"
   ]
  },
  {
   "cell_type": "markdown",
   "id": "3c965123",
   "metadata": {},
   "source": [
    "There is a left skew in the histogram showing the distribution of traffic during the day. That is, most of the traffic volume values are high-there are 4,252 or more cars passing the station every hour 75% of the time (because 25% of the values are less than 4,252).\n",
    "\n",
    "The histogram showing the night data is skewed to the right. In 75% of the cases, the number of vehicles passing the station per hour is below 2,819.\n",
    "\n",
    "Traffic at night is generally light, although there are still readings of over 5,000 cars per hour. We're interested in finding indicators of heavy traffic, so we'll focus only on day data in the future."
   ]
  },
  {
   "cell_type": "markdown",
   "id": "a9c9d5c1",
   "metadata": {},
   "source": [
    "## Time Indicators"
   ]
  },
  {
   "cell_type": "markdown",
   "id": "26973233",
   "metadata": {},
   "source": [
    "A potential indicator for heavy traffic is time. In a certain month, on a certain day, or at a certain time of day, there may be more people on the road.\n",
    "\n",
    "Let's look at some line graphs. They show how the volume of traffic changes according to the following:\n",
    "\n",
    "* Month\n",
    "* Day of the week\n",
    "* Time of Day"
   ]
  },
  {
   "cell_type": "code",
   "execution_count": 48,
   "id": "e437f3b7",
   "metadata": {},
   "outputs": [
    {
     "data": {
      "text/plain": [
       "month\n",
       "1     4495.613727\n",
       "2     4711.198394\n",
       "3     4889.409560\n",
       "4     4906.894305\n",
       "5     4911.121609\n",
       "6     4898.019566\n",
       "7     4595.035744\n",
       "8     4928.302035\n",
       "9     4870.783145\n",
       "10    4921.234922\n",
       "11    4704.094319\n",
       "12    4374.834566\n",
       "Name: traffic_volume, dtype: float64"
      ]
     },
     "execution_count": 48,
     "metadata": {},
     "output_type": "execute_result"
    }
   ],
   "source": [
    "day['month'] = day['date_time'].dt.month\n",
    "by_month = day.groupby('month').mean()\n",
    "by_month['traffic_volume']"
   ]
  },
  {
   "cell_type": "code",
   "execution_count": 49,
   "id": "62ddc753",
   "metadata": {},
   "outputs": [
    {
     "data": {
      "text/plain": [
       "<AxesSubplot:xlabel='month'>"
      ]
     },
     "execution_count": 49,
     "metadata": {},
     "output_type": "execute_result"
    },
    {
     "data": {
      "image/png": "[encoded data removed]",
      "text/plain": [
       "<Figure size 432x288 with 1 Axes>"
      ]
     },
     "metadata": {
      "needs_background": "light"
     },
     "output_type": "display_data"
    }
   ],
   "source": [
    "by_month['traffic_volume'].plot.line()"
   ]
  },
  {
   "cell_type": "markdown",
   "id": "efffab19",
   "metadata": {},
   "source": [
    "Traffic seems to be lighter in the cold months (November to February) and heavier in the warm months (March to October), with one interesting exception: July. What's special in July? It could be due to the high temperatures, but before making such assumptions, it is necessary to examine the month of July separately. "
   ]
  },
  {
   "cell_type": "code",
   "execution_count": 52,
   "id": "723ce65b",
   "metadata": {},
   "outputs": [
    {
     "data": {
      "image/png": "[encoded data removed]",
      "text/plain": [
       "<Figure size 432x288 with 1 Axes>"
      ]
     },
     "metadata": {
      "needs_background": "light"
     },
     "output_type": "display_data"
    }
   ],
   "source": [
    "day['year'] = day['date_time'].dt.year\n",
    "only_july = day[day['month'] == 7]\n",
    "only_july.groupby('year').mean()['traffic_volume'].plot.line()\n",
    "\n",
    "plt.show()"
   ]
  },
  {
   "cell_type": "markdown",
   "id": "024c3920",
   "metadata": {},
   "source": [
    "The assumption about the weather was wrong. As a rule, the traffic volume in July is quite high, similar to the other warm months. The year 2016, which saw a significant decrease in traffic, is the only exception. One of the possible reasons for this is the [road construction](https://www.crainsdetroit.com/article/20160728/NEWS/160729841/weekend-construction-i-96-us-23-bridge-work-i-94-lane-closures-i-696) - this article from the year 2016 supports this hypothesis.\n",
    "\n",
    "As a preliminary conclusion, we can say that warm months generally have more traffic compared to cold months. You can expect a traffic volume of almost 5,000 cars per hour of the day in a warm month."
   ]
  },
  {
   "cell_type": "markdown",
   "id": "07cc3298",
   "metadata": {},
   "source": [
    "## Time Indicators (II)"
   ]
  },
  {
   "cell_type": "code",
   "execution_count": 55,
   "id": "3332c99e",
   "metadata": {},
   "outputs": [
    {
     "data": {
      "image/png": "[encoded data removed]",
      "text/plain": [
       "<Figure size 432x288 with 1 Axes>"
      ]
     },
     "metadata": {
      "needs_background": "light"
     },
     "output_type": "display_data"
    }
   ],
   "source": [
    "day['dayofweek'] = day['date_time'].dt.dayofweek\n",
    "by_dayofweek = day.groupby('dayofweek').mean()\n",
    "\n",
    "plt.plot(by_dayofweek['traffic_volume'])\n",
    "plt.show()"
   ]
  },
  {
   "cell_type": "markdown",
   "id": "c0f1477d",
   "metadata": {},
   "source": [
    "On business days (Monday - Friday) the traffic is significantly higher. With the exception of Monday, we only see values of more than 5,000 on business days. On weekends, the traffic is lighter, with values of less than 4,000 cars."
   ]
  },
  {
   "cell_type": "markdown",
   "id": "5cdc1b0e",
   "metadata": {},
   "source": [
    "## Time Indicators (III)"
   ]
  },
  {
   "cell_type": "markdown",
   "id": "d1663723",
   "metadata": {},
   "source": [
    "Now we have a look at what we have in terms of time of day values. However, weekends have a negative effect on the averages, so we'll just have a look at the averages separately."
   ]
  },
  {
   "cell_type": "code",
   "execution_count": 57,
   "id": "d519a2c0",
   "metadata": {},
   "outputs": [
    {
     "name": "stdout",
     "output_type": "stream",
     "text": [
      "hour\n",
      "7     6030.413559\n",
      "8     5503.497970\n",
      "9     4895.269257\n",
      "10    4378.419118\n",
      "11    4633.419470\n",
      "12    4855.382143\n",
      "13    4859.180473\n",
      "14    5152.995778\n",
      "15    5592.897768\n",
      "16    6189.473647\n",
      "17    5784.827133\n",
      "18    4434.209431\n",
      "Name: traffic_volume, dtype: float64\n",
      "hour\n",
      "7     1589.365894\n",
      "8     2338.578073\n",
      "9     3111.623917\n",
      "10    3686.632302\n",
      "11    4044.154955\n",
      "12    4372.482883\n",
      "13    4362.296564\n",
      "14    4358.543796\n",
      "15    4342.456881\n",
      "16    4339.693805\n",
      "17    4151.919929\n",
      "18    3811.792279\n",
      "Name: traffic_volume, dtype: float64\n"
     ]
    }
   ],
   "source": [
    "day['hour'] = day['date_time'].dt.hour\n",
    "\n",
    "bussiness_days = day.copy()[day['dayofweek'] <= 4] # 4 == Friday\n",
    "weekend = day.copy()[day['dayofweek'] >= 5] # 5 == Saturday\n",
    "\n",
    "by_hour_business = bussiness_days.groupby('hour').mean()\n",
    "by_hour_weekend = weekend.groupby('hour').mean()\n",
    "\n",
    "print(by_hour_business['traffic_volume'])\n",
    "print(by_hour_weekend['traffic_volume'])"
   ]
  },
  {
   "cell_type": "code",
   "execution_count": 76,
   "id": "e434a5fb",
   "metadata": {},
   "outputs": [
    {
     "data": {
      "image/png": "[encoded data removed]",
      "text/plain": [
       "<Figure size 864x288 with 2 Axes>"
      ]
     },
     "metadata": {
      "needs_background": "light"
     },
     "output_type": "display_data"
    }
   ],
   "source": [
    "plt.figure(figsize =(12, 4))\n",
    "\n",
    "plt.subplot(1,2,1)\n",
    "plt.plot(by_hour_business['traffic_volume'])\n",
    "plt.title('Business days')\n",
    "plt.xlim(6,19)\n",
    "plt.ylim(1500, 6250)\n",
    "plt.xlabel('hour')\n",
    "plt.ylabel('traffic')\n",
    "\n",
    "plt.subplot(1,2,2)\n",
    "plt.plot(by_hour_weekend['traffic_volume'])\n",
    "plt.title('Weekends')\n",
    "plt.xlim(6,19)\n",
    "plt.ylim(1500, 6250)\n",
    "plt.xlabel('hour')\n",
    "plt.ylabel('traffic')\n",
    "\n",
    "plt.show()"
   ]
  },
  {
   "cell_type": "markdown",
   "id": "a64070e6",
   "metadata": {},
   "source": [
    "Traffic is generally heavier on weekdays than on weekends at every hour of the day. Somewhat predictably, the peak hours are around 7am and 4pm, when most people are traveling from home to work and back. During rush hours, we see volumes of over 6,000 cars.\n",
    "\n",
    "Summarizing, we found some temporal indicators of heavy traffic:\n",
    "\n",
    "* Traffic tends to be heavier in the warm months (March-October) compared to the cold months (November-February).\n",
    "* On workdays compared to weekends, traffic is usually heavier.\n",
    "* Peak hours are around 7am and 4pm on business days."
   ]
  },
  {
   "cell_type": "markdown",
   "id": "460ab38b",
   "metadata": {},
   "source": [
    "##  Weather Indicators"
   ]
  },
  {
   "cell_type": "markdown",
   "id": "4573931c",
   "metadata": {},
   "source": [
    "The weather may also indicate high traffic. Some useful columns about the weather: `Temp`, `Rain_1h`, `Snow_1h`, `Clouds_all`, `Weather_main`, `Weather_Description`.\n",
    "\n",
    "Some of these columns are numeric. Let's start by looking at their correlation values with `traffic_volume`."
   ]
  },
  {
   "cell_type": "code",
   "execution_count": 79,
   "id": "10ddf069",
   "metadata": {},
   "outputs": [
    {
     "data": {
      "text/plain": [
       "temp              0.128317\n",
       "rain_1h           0.003697\n",
       "snow_1h           0.001265\n",
       "clouds_all       -0.032932\n",
       "traffic_volume    1.000000\n",
       "month            -0.022337\n",
       "year             -0.003557\n",
       "dayofweek        -0.416453\n",
       "hour              0.172704\n",
       "Name: traffic_volume, dtype: float64"
      ]
     },
     "execution_count": 79,
     "metadata": {},
     "output_type": "execute_result"
    }
   ],
   "source": [
    "day.corr()['traffic_volume']"
   ]
  },
  {
   "cell_type": "markdown",
   "id": "97928f3d",
   "metadata": {},
   "source": [
    "With a value of only +0.13, temperature shows the strongest correlation. There is no strong correlation with traffic_value for the other relevant columns (`rain_1h`, `snow_1h`, `clouds_all`).\n",
    "\n",
    "To visualize the correlation between temp and `traffic_value`, let's create a scatterplot."
   ]
  },
  {
   "cell_type": "code",
   "execution_count": 85,
   "id": "48497649",
   "metadata": {},
   "outputs": [
    {
     "data": {
      "image/png": "[encoded data removed]",
      "text/plain": [
       "<Figure size 432x288 with 1 Axes>"
      ]
     },
     "metadata": {
      "needs_background": "light"
     },
     "output_type": "display_data"
    }
   ],
   "source": [
    "day.plot.scatter('traffic_volume', 'temp')\n",
    "plt.ylim(235, 320)\n",
    "\n",
    "plt.show()"
   ]
  },
  {
   "cell_type": "markdown",
   "id": "56ac2831",
   "metadata": {},
   "source": [
    "Our conclusion is that the temperature is not a good indicator of whether there is a lot of traffic or not.\n",
    "\n",
    "Now, let's examine the other weather-related columns: `weather_main` and `weather_description`."
   ]
  },
  {
   "cell_type": "markdown",
   "id": "7dae7fc5",
   "metadata": {},
   "source": [
    "## Weather Types"
   ]
  },
  {
   "cell_type": "markdown",
   "id": "cb4806d7",
   "metadata": {},
   "source": [
    "First, we'll group the data by `weather_main` and look at the `traffic_volume` averages."
   ]
  },
  {
   "cell_type": "code",
   "execution_count": 86,
   "id": "c329466d",
   "metadata": {},
   "outputs": [],
   "source": [
    "by_weather_main = day.groupby('weather_main').mean()\n",
    "by_weather_description = day.groupby('weather_description').mean()"
   ]
  },
  {
   "cell_type": "markdown",
   "id": "64ce2396",
   "metadata": {},
   "source": [
    "There doesn't seem to be any weather type where the traffic volume exceeds 5,000 cars. So the search for a heavy traffic indicator is a bit difficult. Let's also group by weather_description, which has a more detailed weather categorization."
   ]
  },
  {
   "cell_type": "code",
   "execution_count": 89,
   "id": "3e73f78c",
   "metadata": {},
   "outputs": [
    {
     "data": {
      "image/png": "[encoded data removed]",
      "text/plain": [
       "<Figure size 432x288 with 1 Axes>"
      ]
     },
     "metadata": {
      "needs_background": "light"
     },
     "output_type": "display_data"
    }
   ],
   "source": [
    "by_weather_main['traffic_volume'].plot.barh()\n",
    "plt.show()"
   ]
  },
  {
   "cell_type": "code",
   "execution_count": 110,
   "id": "d0d85074",
   "metadata": {},
   "outputs": [
    {
     "data": {
      "text/plain": [
       "<AxesSubplot:ylabel='weather_description'>"
      ]
     },
     "execution_count": 110,
     "metadata": {},
     "output_type": "execute_result"
    },
    {
     "data": {
      "image/png": "[encoded data removed]",
      "text/plain": [
       "<Figure size 360x864 with 1 Axes>"
      ]
     },
     "metadata": {
      "needs_background": "light"
     },
     "output_type": "display_data"
    }
   ],
   "source": [
    "by_weather_description['traffic_volume'].plot.barh(figsize=(5,12))"
   ]
  },
  {
   "cell_type": "markdown",
   "id": "0f4b3762",
   "metadata": {},
   "source": [
    "There seem to be three types of weather where traffic is over 5,000:\n",
    "\n",
    "* Shower snow\n",
    "* Light rain and snow\n",
    "* Near thunderstorm with drizzle\n",
    "\n",
    "We don't know why these weather conditions have the highest average traffic-they're bad weather, but they aren't bad. Maybe instead of biking or walking, more people get their cars out of the garage in bad weather."
   ]
  },
  {
   "cell_type": "markdown",
   "id": "bee8da7b",
   "metadata": {},
   "source": [
    "## Conclusion"
   ]
  },
  {
   "cell_type": "markdown",
   "id": "761f9157",
   "metadata": {},
   "source": [
    "This project looked at some indicators of heavy traffic on I-94. Two types of indicators were found:\n",
    "\n",
    "* Time indicators\n",
    "    * In warm months (March-October) compared to cold months (November-February) traffic is usually heavier.\n",
    "    * On workdays compared to weekends traffic is usually heavier.\n",
    "    * Peak hours on weekdays are around 7 and 16.\n",
    "* Weather Indicators\n",
    "    * Shower Snow\n",
    "    * Light rain and snow\n",
    "    * Near thunderstorm with drizzle"
   ]
  }
 ],
 "metadata": {
  "kernelspec": {
   "display_name": "Python 3",
   "language": "python",
   "name": "python3"
  },
  "language_info": {
   "codemirror_mode": {
    "name": "ipython",
    "version": 3
   },
   "file_extension": ".py",
   "mimetype": "text/x-python",
   "name": "python",
   "nbconvert_exporter": "python",
   "pygments_lexer": "ipython3",
   "version": "3.8.8"
  }
 },
 "nbformat": 4,
 "nbformat_minor": 5
}
